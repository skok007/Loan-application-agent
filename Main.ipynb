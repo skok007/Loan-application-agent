{
 "cells": [
  {
   "cell_type": "markdown",
   "id": "923f320a",
   "metadata": {},
   "source": [
    "# Loan Application Orchestration Pipeline Demo (Agent Orchestration)\n",
    "\n",
    "This notebook demonstrates the full loan application decision process **using the agent orchestration pipeline**. The orchestration function calls all tools and combines the results into a final summary."
   ]
  },
  {
   "cell_type": "code",
   "execution_count": 1,
   "id": "b565da64",
   "metadata": {},
   "outputs": [],
   "source": [
    "from dotenv import load_dotenv\n",
    "load_dotenv(\".env\", override=True)\n",
    "\n",
    "# Import required modules and orchestration pipeline\n",
    "from data_model import LoanApplicationJourney\n",
    "from utils.config_loader import ConfigLoader\n",
    "from orchestrator_pipeline import orchestrate_application\n",
    "from tools.synthesize_summary import synthesize_summary\n",
    "from agents import RunContextWrapper\n",
    "\n",
    "# Import agent objects\n",
    "from agents.fraud_agent import fraud_agent\n",
    "from agents.sla_agent import sla_agent\n",
    "from agents.recommendation_agent import get_recommendation\n",
    "from agents.orchestrator_agent import orchestrator_agent\n",
    "from agents.report_agent import report_agent\n",
    "from agents.interest_rate_agent import interest_rate_agent"
   ]
  },
  {
   "cell_type": "markdown",
   "id": "b75f66be",
   "metadata": {},
   "source": [
    "#### Test example"
   ]
  },
  {
   "cell_type": "code",
   "execution_count": 2,
   "id": "e73cfe69",
   "metadata": {},
   "outputs": [],
   "source": [
    "# Create a test LoanApplicationJourney instance\n",
    "test_app = LoanApplicationJourney(\n",
    "    application_id=\"APP-LOCAL-001\",\n",
    "    submitted_time=\"2025-06-01T09:00:00\",\n",
    "    reviewed_time=\"2025-06-01T09:30:00\",\n",
    "    approved_time=\"2025-06-01T10:00:00\",\n",
    "    rejected_time=None,\n",
    "    processing_steps={\"KYC\": 72, \"CreditCheck\": 50, \"FinalApproval\": 35},\n",
    "    flagged_for_fraud=False,\n",
    "    monthly_income=50000,\n",
    "    monthly_costs=1000,\n",
    "    requested_amount=25000,\n",
    "    monthly_debt=400\n",
    ")"
   ]
  },
  {
   "cell_type": "markdown",
   "id": "7788dba8",
   "metadata": {},
   "source": [
    "## Integrate and orchestrate the agents"
   ]
  },
  {
   "cell_type": "code",
   "execution_count": 3,
   "id": "70f5eb17",
   "metadata": {},
   "outputs": [
    {
     "name": "stdout",
     "output_type": "stream",
     "text": [
      "Fraud Result: {'flagged': False, 'label': 'No fraud indicators detected', 'risk_score': 0.0, 'triggered_rules': [], 'explanation': 'No indicators present'}\n",
      "SLA Result: {'violated': True, 'label': 'SLA violations in: KYC', 'violated_steps': ['KYC'], 'explanation': 'Steps exceeded configured SLA limits.'}\n",
      "Interest Rate Result: {'level': 'approve', 'label': 'Excellent'}\n"
     ]
    },
    {
     "name": "stderr",
     "output_type": "stream",
     "text": [
      "/Users/dariaz/Desktop/Oxford AI Summit - Full code summit assignment/Loan-application-agent/agents/interest_rate_agent.py:17: FutureWarning: Series.__getitem__ treating keys as positions is deprecated. In a future version, integer keys will always be treated as labels (consistent with DataFrame behavior). To access a value by position, use `ser.iloc[pos]`\n",
      "  latest_rate = hist['Close'][-1]\n"
     ]
    }
   ],
   "source": [
    "# Create a python function that will orchestrate the deterministic workflow\n",
    "fraud_result = fraud_agent.tools[0](RunContextWrapper(test_app))\n",
    "sla_result = sla_agent.tools[0](RunContextWrapper(test_app))\n",
    "interest_rate_result = interest_rate_agent.tools[0](RunContextWrapper(test_app))\n",
    "\n",
    "print(\"Fraud Result:\", fraud_result)\n",
    "print(\"SLA Result:\", sla_result)\n",
    "print(\"Interest Rate Result:\", interest_rate_result)"
   ]
  },
  {
   "cell_type": "code",
   "execution_count": 6,
   "id": "48209804",
   "metadata": {},
   "outputs": [
    {
     "name": "stdout",
     "output_type": "stream",
     "text": [
      "Recommendation: **Recommendation: Reject the Loan Application**\n",
      "\n",
      "The loan application should be rejected due to SLA violations in the KYC process, which exceeded configured limits. Although there are no fraud indicators detected and the interest rate is excellent, compliance with SLA is critical for maintaining operational integrity and risk management.\n"
     ]
    }
   ],
   "source": [
    "recommendation = get_recommendation(fraud_result, sla_result, interest_rate_result)\n",
    "print(\"Recommendation:\", recommendation)"
   ]
  },
  {
   "cell_type": "code",
   "execution_count": 4,
   "id": "825546ee",
   "metadata": {},
   "outputs": [
    {
     "name": "stdout",
     "output_type": "stream",
     "text": [
      "Interest Rate Agent Result: {'level': 'approve', 'label': 'Excellent'}\n"
     ]
    },
    {
     "name": "stderr",
     "output_type": "stream",
     "text": [
      "/Users/dariaz/Desktop/Oxford AI Summit - Full code summit assignment/Loan-application-agent/agents/interest_rate_agent.py:17: FutureWarning: Series.__getitem__ treating keys as positions is deprecated. In a future version, integer keys will always be treated as labels (consistent with DataFrame behavior). To access a value by position, use `ser.iloc[pos]`\n",
      "  latest_rate = hist['Close'][-1]\n"
     ]
    }
   ],
   "source": [
    "# Example: Use interest_rate_agent to check for interest rate (sync call for demo)\n",
    "interest_rate_result = interest_rate_agent.tools[0](RunContextWrapper(test_app))\n",
    "print('Interest Rate Agent Result:', interest_rate_result)\n"
   ]
  },
  {
   "cell_type": "code",
   "execution_count": 38,
   "id": "a3b0f8a5",
   "metadata": {},
   "outputs": [
    {
     "name": "stdout",
     "output_type": "stream",
     "text": [
      "Fraud Agent Result: {'flagged': False, 'label': 'No fraud indicators detected', 'risk_score': 0.0, 'triggered_rules': [], 'explanation': 'No indicators present'}\n"
     ]
    }
   ],
   "source": [
    "# Example: Use fraud_agent to check for fraud indicators (sync call for demo)\n",
    "fraud_result = fraud_agent.tools[0](RunContextWrapper(test_app))\n",
    "print('Fraud Agent Result:', fraud_result)"
   ]
  },
  {
   "cell_type": "code",
   "execution_count": 39,
   "id": "01f55868",
   "metadata": {},
   "outputs": [
    {
     "name": "stdout",
     "output_type": "stream",
     "text": [
      "SLA Agent Result: {'violated': True, 'label': 'SLA violations in: KYC', 'violated_steps': ['KYC'], 'explanation': 'Steps exceeded configured SLA limits.'}\n"
     ]
    }
   ],
   "source": [
    "# Example: Use sla_agent to check SLA compliance (sync call for demo)\n",
    "sla_result = sla_agent.tools[0](RunContextWrapper(test_app))\n",
    "print('SLA Agent Result:', sla_result)"
   ]
  },
  {
   "cell_type": "code",
   "execution_count": 41,
   "id": "81dbb6dd",
   "metadata": {},
   "outputs": [
    {
     "name": "stdout",
     "output_type": "stream",
     "text": [
      "Orchestrator Agent Result: {'violated': True, 'label': 'SLA violations in: KYC', 'violated_steps': ['KYC'], 'explanation': 'Steps exceeded configured SLA limits.'}\n"
     ]
    }
   ],
   "source": [
    "# Example: Use orchestrator_agent to run the full orchestration (sync call for demo)\n",
    "orc_result = orchestrator_agent.tools[0](RunContextWrapper(test_app))\n",
    "print('Orchestrator Agent Result:', orc_result)"
   ]
  },
  {
   "cell_type": "markdown",
   "id": "b3d746a2",
   "metadata": {},
   "source": [
    "# TO DO:"
   ]
  },
  {
   "cell_type": "markdown",
   "id": "51291137",
   "metadata": {},
   "source": []
  },
  {
   "cell_type": "markdown",
   "id": "01d2b8d2",
   "metadata": {},
   "source": [
    "## 1.Trend Analysis\n",
    "\n",
    "### ToDo: Ask agents to analyze and take decisions based on the metrics below: \n",
    "####- interest rate cutoff : search the web to find what a reasonable interest rate is for a loan of this type -> \n",
    "####- fraud detection: based on the kyc and other metrics \n",
    "#- SLA compliance\n",
    "\n",
    "### Goal: give AI more freedom to decide BY REMOVING THE CONFIG "
   ]
  },
  {
   "cell_type": "markdown",
   "id": "9f6e1d84",
   "metadata": {},
   "source": [
    "## 2.MCP Tools \n",
    "### Send email with report \n"
   ]
  },
  {
   "cell_type": "code",
   "execution_count": 8,
   "id": "c3e4675e",
   "metadata": {},
   "outputs": [
    {
     "name": "stdout",
     "output_type": "stream",
     "text": [
      "System Summary Report:\n",
      " 📋 Loan Application System Summary\n",
      "Dear Daria Zahaleanu,  \n",
      "Recommendation: **Recommendation: Reject the Loan Application**\n",
      "\n",
      "The loan application should be rejected due to SLA violations in the KYC process, which exceeded configured limits. Although there are no fraud indicators detected and the interest rate is excellent, compliance with SLA is critical for maintaining operational integrity and risk management.\n",
      "Fraud Result: {'flagged': False, 'label': 'No fraud indicators detected', 'risk_score': 0.0, 'triggered_rules': [], 'explanation': 'No indicators present'}\n",
      "SLA Result: {'violated': True, 'label': 'SLA violations in: KYC', 'violated_steps': ['KYC'], 'explanation': 'Steps exceeded configured SLA limits.'}\n",
      "Interest Rate Result: {'level': 'approve', 'label': 'Excellent'}\n",
      "\n",
      "Regards,\n",
      "Team 5 - Loan Application Agent\n",
      "\n"
     ]
    }
   ],
   "source": [
    "# Prepare the context for the report agent\n",
    "final_context = {\n",
    "    \"recommendation\": getattr(recommendation, 'final_output', recommendation),\n",
    "    \"fraud_result\": fraud_result,\n",
    "    \"sla_result\": sla_result,\n",
    "    \"interest_rate_result\": interest_rate_result\n",
    "}\n",
    "\n",
    "# Generate the summary report\n",
    "report_result = report_agent.tools[0](RunContextWrapper(final_context))\n",
    "print(\"System Summary Report:\\n\", report_result)"
   ]
  },
  {
   "cell_type": "code",
   "execution_count": 9,
   "id": "8f99f9c1",
   "metadata": {},
   "outputs": [
    {
     "name": "stdout",
     "output_type": "stream",
     "text": [
      "✅ Report sent via Zapier email webhook.\n"
     ]
    }
   ],
   "source": [
    "from mcp.zappier_channel import ZapierChannel\n",
    "import os\n",
    "\n",
    "# Set your Zapier webhook URL (from your environment or hardcoded for demo)\n",
    "zapier_url = os.getenv(\"MCP_SERVER_URL_SSE\", \"https://hooks.zapier.com/hooks/catch/23570793/u3m6t1v/\")\n",
    "\n",
    "zapier_channel = ZapierChannel(webhook_url=zapier_url)\n",
    "\n",
    "# Send the report via Zapier\n",
    "zapier_channel.send(\n",
    "    message=report_result,\n",
    "    metadata={\"subject\": \"Loan Application Recommendation\", \"to\": \"anadaria.zahaleanu@gmail.com\"}\n",
    ")\n",
    "\n",
    "print(\"✅ Report sent via Zapier email webhook.\")"
   ]
  },
  {
   "cell_type": "code",
   "execution_count": null,
   "id": "e8caa198",
   "metadata": {},
   "outputs": [],
   "source": []
  }
 ],
 "metadata": {
  "kernelspec": {
   "display_name": "venv",
   "language": "python",
   "name": "python3"
  },
  "language_info": {
   "codemirror_mode": {
    "name": "ipython",
    "version": 3
   },
   "file_extension": ".py",
   "mimetype": "text/x-python",
   "name": "python",
   "nbconvert_exporter": "python",
   "pygments_lexer": "ipython3",
   "version": "3.11.8"
  }
 },
 "nbformat": 4,
 "nbformat_minor": 5
}
